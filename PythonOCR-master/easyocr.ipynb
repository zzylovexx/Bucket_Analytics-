{
 "cells": [
  {
   "cell_type": "code",
   "execution_count": 10,
   "metadata": {},
   "outputs": [],
   "source": [
    "import  numpy as np\n",
    "import easyocr\n",
    "import  cv2\n",
    "import time\n",
    "from datetime import datetime\n",
    "import matplotlib.pyplot as plt\n"
   ]
  },
  {
   "cell_type": "code",
   "execution_count": 4,
   "metadata": {},
   "outputs": [],
   "source": [
    "reader = easyocr.Reader(['en','ch_tra'])"
   ]
  },
  {
   "cell_type": "code",
   "execution_count": 5,
   "metadata": {},
   "outputs": [
    {
     "name": "stdout",
     "output_type": "stream",
     "text": [
      "4.5.4\n",
      "start\n",
      "[([[45, 23], [103, 23], [103, 35], [45, 35]], 'P13H]50', 0.001313895405614628), ([[36, 34], [106, 34], [106, 66], [36, 66]], '盎', 0.00611197729298163), ([[115, 37], [179, 37], [179, 57], [115, 57]], '新北國王', 0.9657904505729675), ([[237, 37], [265, 37], [265, 57], [237, 57]], '84', 0.8506025335250965), ([[298, 36], [346, 36], [346, 66], [298, 66]], '955', 0.38104720793317715), ([[24, 64], [110, 64], [110, 96], [24, 96]], '呎R川F', 0.002268135314807296), ([[117, 65], [209, 65], [209, 85], [117, 85]], '丑北雖邦勇土', 0.006119559048028124), ([[236, 62], [310, 62], [310, 88], [236, 88]], '92 41H', 0.5611931647922229)]\n",
      " need time 0:00:02.429628 s\n"
     ]
    }
   ],
   "source": [
    "print(cv2.__version__)\n",
    "starttime=datetime.now()\n",
    "path_name='point2.jpg'\n",
    "print('start')\n",
    "result = reader.readtext(path_name)\n",
    "print(result)\n",
    "endtime=datetime.now()\n",
    "print(' need time',(endtime-starttime),'s')"
   ]
  },
  {
   "cell_type": "code",
   "execution_count": 6,
   "metadata": {},
   "outputs": [
    {
     "ename": "error",
     "evalue": "OpenCV(4.5.4) :-1: error: (-5:Bad argument) in function 'imshow'\n> Overload resolution failed:\n>  - imshow() missing required argument 'winname' (pos 1)\n>  - imshow() missing required argument 'winname' (pos 1)\n>  - imshow() missing required argument 'winname' (pos 1)\n",
     "output_type": "error",
     "traceback": [
      "\u001b[1;31m---------------------------------------------------------------------------\u001b[0m",
      "\u001b[1;31merror\u001b[0m                                     Traceback (most recent call last)",
      "\u001b[1;32mc:\\pytohn_all\\ocr\\PythonOCR-master\\easyocr.ipynb Cell 4\u001b[0m in \u001b[0;36m<cell line: 1>\u001b[1;34m()\u001b[0m\n\u001b[1;32m----> <a href='vscode-notebook-cell:/c%3A/pytohn_all/ocr/PythonOCR-master/easyocr.ipynb#W3sZmlsZQ%3D%3D?line=0'>1</a>\u001b[0m cv2\u001b[39m.\u001b[39;49mimshow()\n",
      "\u001b[1;31merror\u001b[0m: OpenCV(4.5.4) :-1: error: (-5:Bad argument) in function 'imshow'\n> Overload resolution failed:\n>  - imshow() missing required argument 'winname' (pos 1)\n>  - imshow() missing required argument 'winname' (pos 1)\n>  - imshow() missing required argument 'winname' (pos 1)\n"
     ]
    }
   ],
   "source": []
  },
  {
   "cell_type": "code",
   "execution_count": 8,
   "metadata": {},
   "outputs": [
    {
     "name": "stdout",
     "output_type": "stream",
     "text": [
      "(237, 37)\n",
      "(265, 57)\n"
     ]
    },
    {
     "ename": "error",
     "evalue": "OpenCV(4.5.4) D:\\a\\opencv-python\\opencv-python\\opencv\\modules\\highgui\\src\\window.cpp:1274: error: (-2:Unspecified error) The function is not implemented. Rebuild the library with Windows, GTK+ 2.x or Cocoa support. If you are on Ubuntu or Debian, install libgtk2.0-dev and pkg-config, then re-run cmake or configure script in function 'cvShowImage'\n",
     "output_type": "error",
     "traceback": [
      "\u001b[1;31m---------------------------------------------------------------------------\u001b[0m",
      "\u001b[1;31merror\u001b[0m                                     Traceback (most recent call last)",
      "\u001b[1;32mc:\\pytohn_all\\ocr\\PythonOCR-master\\easyocr.ipynb Cell 5\u001b[0m in \u001b[0;36m<cell line: 9>\u001b[1;34m()\u001b[0m\n\u001b[0;32m      <a href='vscode-notebook-cell:/c%3A/pytohn_all/ocr/PythonOCR-master/easyocr.ipynb#W4sZmlsZQ%3D%3D?line=6'>7</a>\u001b[0m \u001b[39mprint\u001b[39m(bottom_right)\n\u001b[0;32m      <a href='vscode-notebook-cell:/c%3A/pytohn_all/ocr/PythonOCR-master/easyocr.ipynb#W4sZmlsZQ%3D%3D?line=7'>8</a>\u001b[0m img \u001b[39m=\u001b[39mcv2\u001b[39m.\u001b[39mimread(path_name)\n\u001b[1;32m----> <a href='vscode-notebook-cell:/c%3A/pytohn_all/ocr/PythonOCR-master/easyocr.ipynb#W4sZmlsZQ%3D%3D?line=8'>9</a>\u001b[0m cv2\u001b[39m.\u001b[39;49mimshow(\u001b[39m'\u001b[39;49m\u001b[39mimg\u001b[39;49m\u001b[39m'\u001b[39;49m,img)\n\u001b[0;32m     <a href='vscode-notebook-cell:/c%3A/pytohn_all/ocr/PythonOCR-master/easyocr.ipynb#W4sZmlsZQ%3D%3D?line=9'>10</a>\u001b[0m img \u001b[39m=\u001b[39m cv2\u001b[39m.\u001b[39mrectangle(img,top_left,bottom_right,(\u001b[39m0\u001b[39m,\u001b[39m255\u001b[39m,\u001b[39m0\u001b[39m),\u001b[39m3\u001b[39m)\n\u001b[0;32m     <a href='vscode-notebook-cell:/c%3A/pytohn_all/ocr/PythonOCR-master/easyocr.ipynb#W4sZmlsZQ%3D%3D?line=10'>11</a>\u001b[0m img \u001b[39m=\u001b[39m cv2\u001b[39m.\u001b[39mputText(img,result[fignum][\u001b[39m1\u001b[39m],top_left, font, \u001b[39m0.5\u001b[39m,(\u001b[39m255\u001b[39m,\u001b[39m0\u001b[39m,\u001b[39m0\u001b[39m),\u001b[39m1\u001b[39m,cv2\u001b[39m.\u001b[39mLINE_AA)\n",
      "\u001b[1;31merror\u001b[0m: OpenCV(4.5.4) D:\\a\\opencv-python\\opencv-python\\opencv\\modules\\highgui\\src\\window.cpp:1274: error: (-2:Unspecified error) The function is not implemented. Rebuild the library with Windows, GTK+ 2.x or Cocoa support. If you are on Ubuntu or Debian, install libgtk2.0-dev and pkg-config, then re-run cmake or configure script in function 'cvShowImage'\n"
     ]
    }
   ],
   "source": [
    "fignum=3\n",
    "top_left = tuple(result[fignum][0][0])\n",
    "bottom_right = tuple(result[fignum][0][2])\n",
    "text = result[0][1]\n",
    "font = cv2.FONT_HERSHEY_SIMPLEX\n",
    "print(top_left)\n",
    "print(bottom_right)\n",
    "img =cv2.imread(path_name)\n",
    "cv2.imshow('img',img)\n",
    "img = cv2.rectangle(img,top_left,bottom_right,(0,255,0),3)\n",
    "img = cv2.putText(img,result[fignum][1],top_left, font, 0.5,(255,0,0),1,cv2.LINE_AA)\n",
    "plt.figure(figsize=(20,10))\n",
    "plt.imshow(img)\n",
    "print(result[fignum][1])"
   ]
  },
  {
   "cell_type": "code",
   "execution_count": null,
   "metadata": {},
   "outputs": [],
   "source": []
  }
 ],
 "metadata": {
  "kernelspec": {
   "display_name": "Python 3.10.5 ('pytorch')",
   "language": "python",
   "name": "python3"
  },
  "language_info": {
   "codemirror_mode": {
    "name": "ipython",
    "version": 3
   },
   "file_extension": ".py",
   "mimetype": "text/x-python",
   "name": "python",
   "nbconvert_exporter": "python",
   "pygments_lexer": "ipython3",
   "version": "3.10.5"
  },
  "orig_nbformat": 4,
  "vscode": {
   "interpreter": {
    "hash": "c48ae432b80262eaf36c924d0518eed67f57d04170203a02db74671d5e1e6410"
   }
  }
 },
 "nbformat": 4,
 "nbformat_minor": 2
}
